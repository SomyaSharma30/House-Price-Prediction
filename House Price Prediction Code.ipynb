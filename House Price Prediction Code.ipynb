{
  "nbformat": 4,
  "nbformat_minor": 0,
  "metadata": {
    "language_info": {
      "codemirror_mode": {
        "name": "ipython",
        "version": 3
      },
      "file_extension": ".py",
      "mimetype": "text/x-python",
      "name": "python",
      "nbconvert_exporter": "python",
      "pygments_lexer": "ipython3",
      "version": "3.7.4"
    },
    "orig_nbformat": 2,
    "kernelspec": {
      "name": "python374jvsc74a57bd06b5278f08f00bb986519de1854b413b062e63ee69c14a561a45795af76b64930",
      "display_name": "Python 3.7.4 64-bit"
    },
    "metadata": {
      "interpreter": {
        "hash": "6b5278f08f00bb986519de1854b413b062e63ee69c14a561a45795af76b64930"
      }
    },
    "colab": {
      "name": "Housing Code.ipynb",
      "provenance": []
    }
  },
  "cells": [
    {
      "cell_type": "code",
      "metadata": {
        "id": "Ce9t2vTabWRS"
      },
      "source": [
        "import numpy as np\n",
        "import pandas as pd\n"
      ],
      "execution_count": 1,
      "outputs": []
    },
    {
      "cell_type": "code",
      "metadata": {
        "id": "ge2TkokWbWRY"
      },
      "source": [
        "data = pd.read_csv('Housing Dataset.csv')"
      ],
      "execution_count": 3,
      "outputs": []
    },
    {
      "cell_type": "code",
      "metadata": {
        "id": "jW9B8i6wbWRZ",
        "colab": {
          "base_uri": "https://localhost:8080/",
          "height": 421
        },
        "outputId": "ec362132-9686-4360-94bf-05044be03a7c"
      },
      "source": [
        "data.head()"
      ],
      "execution_count": 4,
      "outputs": [
        {
          "output_type": "execute_result",
          "data": {
            "text/plain": [
              "       Suburb           Address  Rooms Type      Price Method SellerG  \\\n",
              "0  Abbotsford      85 Turner St      2    h  1480000.0      S  Biggin   \n",
              "1  Abbotsford   25 Bloomburg St      2    h  1035000.0      S  Biggin   \n",
              "2  Abbotsford      5 Charles St      3    h  1465000.0     SP  Biggin   \n",
              "3  Abbotsford  40 Federation La      3    h   850000.0     PI  Biggin   \n",
              "4  Abbotsford       55a Park St      4    h  1600000.0     VB  Nelson   \n",
              "\n",
              "        Date  Distance  Postcode  ...  Bathroom  Car  Landsize  BuildingArea  \\\n",
              "0  3/12/2016       2.5    3067.0  ...       1.0  1.0     202.0           NaN   \n",
              "1  4/02/2016       2.5    3067.0  ...       1.0  0.0     156.0          79.0   \n",
              "2  4/03/2017       2.5    3067.0  ...       2.0  0.0     134.0         150.0   \n",
              "3  4/03/2017       2.5    3067.0  ...       2.0  1.0      94.0           NaN   \n",
              "4  4/06/2016       2.5    3067.0  ...       1.0  2.0     120.0         142.0   \n",
              "\n",
              "   YearBuilt  CouncilArea Lattitude  Longtitude             Regionname  \\\n",
              "0        NaN        Yarra  -37.7996    144.9984  Northern Metropolitan   \n",
              "1     1900.0        Yarra  -37.8079    144.9934  Northern Metropolitan   \n",
              "2     1900.0        Yarra  -37.8093    144.9944  Northern Metropolitan   \n",
              "3        NaN        Yarra  -37.7969    144.9969  Northern Metropolitan   \n",
              "4     2014.0        Yarra  -37.8072    144.9941  Northern Metropolitan   \n",
              "\n",
              "  Propertycount  \n",
              "0        4019.0  \n",
              "1        4019.0  \n",
              "2        4019.0  \n",
              "3        4019.0  \n",
              "4        4019.0  \n",
              "\n",
              "[5 rows x 21 columns]"
            ],
            "text/html": [
              "\n",
              "  <div id=\"df-e346d190-57e3-41ff-bedd-7f6db83d31d8\">\n",
              "    <div class=\"colab-df-container\">\n",
              "      <div>\n",
              "<style scoped>\n",
              "    .dataframe tbody tr th:only-of-type {\n",
              "        vertical-align: middle;\n",
              "    }\n",
              "\n",
              "    .dataframe tbody tr th {\n",
              "        vertical-align: top;\n",
              "    }\n",
              "\n",
              "    .dataframe thead th {\n",
              "        text-align: right;\n",
              "    }\n",
              "</style>\n",
              "<table border=\"1\" class=\"dataframe\">\n",
              "  <thead>\n",
              "    <tr style=\"text-align: right;\">\n",
              "      <th></th>\n",
              "      <th>Suburb</th>\n",
              "      <th>Address</th>\n",
              "      <th>Rooms</th>\n",
              "      <th>Type</th>\n",
              "      <th>Price</th>\n",
              "      <th>Method</th>\n",
              "      <th>SellerG</th>\n",
              "      <th>Date</th>\n",
              "      <th>Distance</th>\n",
              "      <th>Postcode</th>\n",
              "      <th>...</th>\n",
              "      <th>Bathroom</th>\n",
              "      <th>Car</th>\n",
              "      <th>Landsize</th>\n",
              "      <th>BuildingArea</th>\n",
              "      <th>YearBuilt</th>\n",
              "      <th>CouncilArea</th>\n",
              "      <th>Lattitude</th>\n",
              "      <th>Longtitude</th>\n",
              "      <th>Regionname</th>\n",
              "      <th>Propertycount</th>\n",
              "    </tr>\n",
              "  </thead>\n",
              "  <tbody>\n",
              "    <tr>\n",
              "      <th>0</th>\n",
              "      <td>Abbotsford</td>\n",
              "      <td>85 Turner St</td>\n",
              "      <td>2</td>\n",
              "      <td>h</td>\n",
              "      <td>1480000.0</td>\n",
              "      <td>S</td>\n",
              "      <td>Biggin</td>\n",
              "      <td>3/12/2016</td>\n",
              "      <td>2.5</td>\n",
              "      <td>3067.0</td>\n",
              "      <td>...</td>\n",
              "      <td>1.0</td>\n",
              "      <td>1.0</td>\n",
              "      <td>202.0</td>\n",
              "      <td>NaN</td>\n",
              "      <td>NaN</td>\n",
              "      <td>Yarra</td>\n",
              "      <td>-37.7996</td>\n",
              "      <td>144.9984</td>\n",
              "      <td>Northern Metropolitan</td>\n",
              "      <td>4019.0</td>\n",
              "    </tr>\n",
              "    <tr>\n",
              "      <th>1</th>\n",
              "      <td>Abbotsford</td>\n",
              "      <td>25 Bloomburg St</td>\n",
              "      <td>2</td>\n",
              "      <td>h</td>\n",
              "      <td>1035000.0</td>\n",
              "      <td>S</td>\n",
              "      <td>Biggin</td>\n",
              "      <td>4/02/2016</td>\n",
              "      <td>2.5</td>\n",
              "      <td>3067.0</td>\n",
              "      <td>...</td>\n",
              "      <td>1.0</td>\n",
              "      <td>0.0</td>\n",
              "      <td>156.0</td>\n",
              "      <td>79.0</td>\n",
              "      <td>1900.0</td>\n",
              "      <td>Yarra</td>\n",
              "      <td>-37.8079</td>\n",
              "      <td>144.9934</td>\n",
              "      <td>Northern Metropolitan</td>\n",
              "      <td>4019.0</td>\n",
              "    </tr>\n",
              "    <tr>\n",
              "      <th>2</th>\n",
              "      <td>Abbotsford</td>\n",
              "      <td>5 Charles St</td>\n",
              "      <td>3</td>\n",
              "      <td>h</td>\n",
              "      <td>1465000.0</td>\n",
              "      <td>SP</td>\n",
              "      <td>Biggin</td>\n",
              "      <td>4/03/2017</td>\n",
              "      <td>2.5</td>\n",
              "      <td>3067.0</td>\n",
              "      <td>...</td>\n",
              "      <td>2.0</td>\n",
              "      <td>0.0</td>\n",
              "      <td>134.0</td>\n",
              "      <td>150.0</td>\n",
              "      <td>1900.0</td>\n",
              "      <td>Yarra</td>\n",
              "      <td>-37.8093</td>\n",
              "      <td>144.9944</td>\n",
              "      <td>Northern Metropolitan</td>\n",
              "      <td>4019.0</td>\n",
              "    </tr>\n",
              "    <tr>\n",
              "      <th>3</th>\n",
              "      <td>Abbotsford</td>\n",
              "      <td>40 Federation La</td>\n",
              "      <td>3</td>\n",
              "      <td>h</td>\n",
              "      <td>850000.0</td>\n",
              "      <td>PI</td>\n",
              "      <td>Biggin</td>\n",
              "      <td>4/03/2017</td>\n",
              "      <td>2.5</td>\n",
              "      <td>3067.0</td>\n",
              "      <td>...</td>\n",
              "      <td>2.0</td>\n",
              "      <td>1.0</td>\n",
              "      <td>94.0</td>\n",
              "      <td>NaN</td>\n",
              "      <td>NaN</td>\n",
              "      <td>Yarra</td>\n",
              "      <td>-37.7969</td>\n",
              "      <td>144.9969</td>\n",
              "      <td>Northern Metropolitan</td>\n",
              "      <td>4019.0</td>\n",
              "    </tr>\n",
              "    <tr>\n",
              "      <th>4</th>\n",
              "      <td>Abbotsford</td>\n",
              "      <td>55a Park St</td>\n",
              "      <td>4</td>\n",
              "      <td>h</td>\n",
              "      <td>1600000.0</td>\n",
              "      <td>VB</td>\n",
              "      <td>Nelson</td>\n",
              "      <td>4/06/2016</td>\n",
              "      <td>2.5</td>\n",
              "      <td>3067.0</td>\n",
              "      <td>...</td>\n",
              "      <td>1.0</td>\n",
              "      <td>2.0</td>\n",
              "      <td>120.0</td>\n",
              "      <td>142.0</td>\n",
              "      <td>2014.0</td>\n",
              "      <td>Yarra</td>\n",
              "      <td>-37.8072</td>\n",
              "      <td>144.9941</td>\n",
              "      <td>Northern Metropolitan</td>\n",
              "      <td>4019.0</td>\n",
              "    </tr>\n",
              "  </tbody>\n",
              "</table>\n",
              "<p>5 rows × 21 columns</p>\n",
              "</div>\n",
              "      <button class=\"colab-df-convert\" onclick=\"convertToInteractive('df-e346d190-57e3-41ff-bedd-7f6db83d31d8')\"\n",
              "              title=\"Convert this dataframe to an interactive table.\"\n",
              "              style=\"display:none;\">\n",
              "        \n",
              "  <svg xmlns=\"http://www.w3.org/2000/svg\" height=\"24px\"viewBox=\"0 0 24 24\"\n",
              "       width=\"24px\">\n",
              "    <path d=\"M0 0h24v24H0V0z\" fill=\"none\"/>\n",
              "    <path d=\"M18.56 5.44l.94 2.06.94-2.06 2.06-.94-2.06-.94-.94-2.06-.94 2.06-2.06.94zm-11 1L8.5 8.5l.94-2.06 2.06-.94-2.06-.94L8.5 2.5l-.94 2.06-2.06.94zm10 10l.94 2.06.94-2.06 2.06-.94-2.06-.94-.94-2.06-.94 2.06-2.06.94z\"/><path d=\"M17.41 7.96l-1.37-1.37c-.4-.4-.92-.59-1.43-.59-.52 0-1.04.2-1.43.59L10.3 9.45l-7.72 7.72c-.78.78-.78 2.05 0 2.83L4 21.41c.39.39.9.59 1.41.59.51 0 1.02-.2 1.41-.59l7.78-7.78 2.81-2.81c.8-.78.8-2.07 0-2.86zM5.41 20L4 18.59l7.72-7.72 1.47 1.35L5.41 20z\"/>\n",
              "  </svg>\n",
              "      </button>\n",
              "      \n",
              "  <style>\n",
              "    .colab-df-container {\n",
              "      display:flex;\n",
              "      flex-wrap:wrap;\n",
              "      gap: 12px;\n",
              "    }\n",
              "\n",
              "    .colab-df-convert {\n",
              "      background-color: #E8F0FE;\n",
              "      border: none;\n",
              "      border-radius: 50%;\n",
              "      cursor: pointer;\n",
              "      display: none;\n",
              "      fill: #1967D2;\n",
              "      height: 32px;\n",
              "      padding: 0 0 0 0;\n",
              "      width: 32px;\n",
              "    }\n",
              "\n",
              "    .colab-df-convert:hover {\n",
              "      background-color: #E2EBFA;\n",
              "      box-shadow: 0px 1px 2px rgba(60, 64, 67, 0.3), 0px 1px 3px 1px rgba(60, 64, 67, 0.15);\n",
              "      fill: #174EA6;\n",
              "    }\n",
              "\n",
              "    [theme=dark] .colab-df-convert {\n",
              "      background-color: #3B4455;\n",
              "      fill: #D2E3FC;\n",
              "    }\n",
              "\n",
              "    [theme=dark] .colab-df-convert:hover {\n",
              "      background-color: #434B5C;\n",
              "      box-shadow: 0px 1px 3px 1px rgba(0, 0, 0, 0.15);\n",
              "      filter: drop-shadow(0px 1px 2px rgba(0, 0, 0, 0.3));\n",
              "      fill: #FFFFFF;\n",
              "    }\n",
              "  </style>\n",
              "\n",
              "      <script>\n",
              "        const buttonEl =\n",
              "          document.querySelector('#df-e346d190-57e3-41ff-bedd-7f6db83d31d8 button.colab-df-convert');\n",
              "        buttonEl.style.display =\n",
              "          google.colab.kernel.accessAllowed ? 'block' : 'none';\n",
              "\n",
              "        async function convertToInteractive(key) {\n",
              "          const element = document.querySelector('#df-e346d190-57e3-41ff-bedd-7f6db83d31d8');\n",
              "          const dataTable =\n",
              "            await google.colab.kernel.invokeFunction('convertToInteractive',\n",
              "                                                     [key], {});\n",
              "          if (!dataTable) return;\n",
              "\n",
              "          const docLinkHtml = 'Like what you see? Visit the ' +\n",
              "            '<a target=\"_blank\" href=https://colab.research.google.com/notebooks/data_table.ipynb>data table notebook</a>'\n",
              "            + ' to learn more about interactive tables.';\n",
              "          element.innerHTML = '';\n",
              "          dataTable['output_type'] = 'display_data';\n",
              "          await google.colab.output.renderOutput(dataTable, element);\n",
              "          const docLink = document.createElement('div');\n",
              "          docLink.innerHTML = docLinkHtml;\n",
              "          element.appendChild(docLink);\n",
              "        }\n",
              "      </script>\n",
              "    </div>\n",
              "  </div>\n",
              "  "
            ]
          },
          "metadata": {},
          "execution_count": 4
        }
      ]
    },
    {
      "cell_type": "code",
      "metadata": {
        "id": "0gJBMluhbWRa"
      },
      "source": [
        "#First we have preprocessed the data \n",
        "#we can see that there are some missing term in coloumn car,buildingarea,yearbuit and council area"
      ],
      "execution_count": null,
      "outputs": []
    },
    {
      "cell_type": "code",
      "metadata": {
        "id": "z9b9p3wWbWRa"
      },
      "source": [
        "#Filling data of building Area\n",
        "data['BuildingArea'] = data['BuildingArea'].fillna(data['BuildingArea'].median())"
      ],
      "execution_count": 5,
      "outputs": []
    },
    {
      "cell_type": "code",
      "metadata": {
        "id": "vzHmQpUXbWRb"
      },
      "source": [
        "#filling data of year built \n",
        "\n",
        "data['YearBuilt'] = data['YearBuilt'].fillna(data['YearBuilt'].mode()[0])\n",
        "\n",
        "\n"
      ],
      "execution_count": 6,
      "outputs": []
    },
    {
      "cell_type": "code",
      "metadata": {
        "id": "kUST-s4EbWRc"
      },
      "source": [
        "#now we fill the values of car\n",
        "\n",
        "data['Car']=data[\"Car\"].fillna(0)"
      ],
      "execution_count": 7,
      "outputs": []
    },
    {
      "cell_type": "code",
      "metadata": {
        "id": "JBm1PhWEbWRc"
      },
      "source": [
        "#Now fill council area\n",
        "\n",
        "data['CouncilArea'] = data['CouncilArea'].fillna(data.CouncilArea.mode()[0])"
      ],
      "execution_count": 8,
      "outputs": []
    },
    {
      "cell_type": "code",
      "metadata": {
        "id": "wDdWMrlnbWRd"
      },
      "source": [
        "from sklearn import preprocessing\n",
        "\n",
        "lab_enc=preprocessing.LabelEncoder()\n",
        "#SUburb   314 value\n",
        "freq_sub = round(100*data.Suburb.value_counts()/len(data.index), 2)\n",
        "data['Suburb'] = data['Suburb'].apply(lambda x: freq_sub[x])\n",
        "\n",
        "\n",
        "#SelleG have a total of 263 values\n",
        "freq_sellerg = round(100*data.SellerG.value_counts()/len(data.index), 2)\n",
        "data['SellerG'] = data['SellerG'].apply(lambda x: freq_sellerg[x])\n",
        "\n",
        "\n",
        "\n"
      ],
      "execution_count": 9,
      "outputs": []
    },
    {
      "cell_type": "code",
      "metadata": {
        "id": "IIOQX7bNbWRe"
      },
      "source": [
        "# room are not needed to be preprocessed\n",
        "#type h,u,t are converted in lable by lable encoder\n",
        "#1 2 34 32 13 324 3 5345 112 34\n",
        "# 1 2 1 2 2\n",
        "#3/5=0.6\n",
        "\n",
        "\n",
        "data['Type']=pd.Series(lab_enc.fit_transform(data['Type']))\n",
        "#methord\n",
        "data['Method']=pd.Series(lab_enc.fit_transform(data['Method']))"
      ],
      "execution_count": 10,
      "outputs": []
    },
    {
      "cell_type": "code",
      "metadata": {
        "id": "a_DB-6BmbWRe"
      },
      "source": [
        "# Date\n",
        "#28/08/2001\n",
        "ds, ms, ys = [], [], []\n",
        "for row in data[\"Date\"]:\n",
        "    d, m, y = list(map(int, row.split('/')))\n",
        "    ds.append(d)\n",
        "    ms.append(m)\n",
        "    ys.append(y)\n",
        "\n",
        "data[\"DaySold\"] = ds\n",
        "data[\"MonthSold\"] = ms\n",
        "data[\"YearSold\"] = ys\n",
        "data = data.drop(\"Date\", axis=1)"
      ],
      "execution_count": 11,
      "outputs": []
    },
    {
      "cell_type": "code",
      "metadata": {
        "id": "9se24WPCbWRf"
      },
      "source": [
        "#Distance\n",
        "streets = []\n",
        "for addr in data[\"Address\"]:\n",
        "    address = addr.split(' ')\n",
        "    # street_general_area = address[1:]\n",
        "    street_general_area = address[-2]\n",
        "    streets.append(street_general_area)\n"
      ],
      "execution_count": 12,
      "outputs": []
    },
    {
      "cell_type": "code",
      "metadata": {
        "id": "UKBKMVKMbWRf"
      },
      "source": [
        "data[\"Address\"] = streets\n",
        "data[\"Address\"] = pd.Series(lab_enc.fit_transform(data[\"Address\"]))\n",
        "#Postcode\n",
        "freq_postcode = round(100*data.Postcode.value_counts()/len(data.index), 2)\n",
        "#data['Postcode'] = data['Postcode'].apply(lambda x: freq_postcode)\n",
        "#Bedroom,Bathroom , car and car are not needed to be preprocessed\n",
        "#landsize,Buildingarea,\n"
      ],
      "execution_count": 13,
      "outputs": []
    },
    {
      "cell_type": "code",
      "metadata": {
        "id": "c3fhL9wQbWRf"
      },
      "source": [
        "#Year Built\n",
        "data['YearBuilt']=pd.Series(lab_enc.fit_transform(data['YearBuilt']))\n",
        "#councilArea\n",
        "freq_council = round(100*data.CouncilArea.value_counts()/len(data.index), 2)\n",
        "data['CouncilArea'] = data['CouncilArea'].apply(lambda x: freq_council[x])\n",
        "#latitude, longitude\n",
        "#region name\n",
        "data['Regionname']=pd.Series(lab_enc.fit_transform(data['Regionname']))"
      ],
      "execution_count": 14,
      "outputs": []
    },
    {
      "cell_type": "code",
      "metadata": {
        "id": "reXR4d-fbWRg",
        "colab": {
          "base_uri": "https://localhost:8080/"
        },
        "outputId": "71129f06-3fbd-4493-ee79-c55a75d94573"
      },
      "source": [
        "data.info()"
      ],
      "execution_count": 15,
      "outputs": [
        {
          "output_type": "stream",
          "name": "stdout",
          "text": [
            "<class 'pandas.core.frame.DataFrame'>\n",
            "RangeIndex: 13580 entries, 0 to 13579\n",
            "Data columns (total 23 columns):\n",
            " #   Column         Non-Null Count  Dtype  \n",
            "---  ------         --------------  -----  \n",
            " 0   Suburb         13580 non-null  float64\n",
            " 1   Address        13580 non-null  int64  \n",
            " 2   Rooms          13580 non-null  int64  \n",
            " 3   Type           13580 non-null  int64  \n",
            " 4   Price          13580 non-null  float64\n",
            " 5   Method         13580 non-null  int64  \n",
            " 6   SellerG        13580 non-null  float64\n",
            " 7   Distance       13580 non-null  float64\n",
            " 8   Postcode       13580 non-null  float64\n",
            " 9   Bedroom2       13580 non-null  float64\n",
            " 10  Bathroom       13580 non-null  float64\n",
            " 11  Car            13580 non-null  float64\n",
            " 12  Landsize       13580 non-null  float64\n",
            " 13  BuildingArea   13580 non-null  float64\n",
            " 14  YearBuilt      13580 non-null  int64  \n",
            " 15  CouncilArea    13580 non-null  float64\n",
            " 16  Lattitude      13580 non-null  float64\n",
            " 17  Longtitude     13580 non-null  float64\n",
            " 18  Regionname     13580 non-null  int64  \n",
            " 19  Propertycount  13580 non-null  float64\n",
            " 20  DaySold        13580 non-null  int64  \n",
            " 21  MonthSold      13580 non-null  int64  \n",
            " 22  YearSold       13580 non-null  int64  \n",
            "dtypes: float64(14), int64(9)\n",
            "memory usage: 2.4 MB\n"
          ]
        }
      ]
    },
    {
      "cell_type": "code",
      "metadata": {
        "id": "rs0QwSVZbWRg"
      },
      "source": [
        "#Feature Engenerring\n",
        "from sklearn.model_selection import train_test_split\n",
        "\n",
        "X=data.drop(['Price'],axis=1)\n",
        "Y=data['Price']\n",
        "\n",
        "X_train, X_test, y_train, y_test = train_test_split(X, Y, test_size = 0.20, random_state = 42)\n",
        "\n"
      ],
      "execution_count": 16,
      "outputs": []
    },
    {
      "cell_type": "code",
      "metadata": {
        "id": "hEYIFfDebWRg",
        "colab": {
          "base_uri": "https://localhost:8080/"
        },
        "outputId": "8c2ba817-3e2c-4fb7-b11b-4075bb90e383"
      },
      "source": [
        "from sklearn.feature_selection import f_regression\n",
        "f_value = f_regression(X, Y)\n",
        "feature_name=X.columns\n",
        "for feature in zip(feature_name, f_value[0]):\n",
        "    print(feature)"
      ],
      "execution_count": 17,
      "outputs": [
        {
          "output_type": "stream",
          "name": "stdout",
          "text": [
            "('Suburb', 43.98877614516688)\n",
            "('Address', 0.2520885800055402)\n",
            "('Rooms', 4445.375633002306)\n",
            "('Type', 2817.874921020954)\n",
            "('Method', 19.36746062993607)\n",
            "('SellerG', 41.97815599028362)\n",
            "('Distance', 368.3703298271484)\n",
            "('Postcode', 159.8437653098493)\n",
            "('Bedroom2', 3976.6423361779507)\n",
            "('Bathroom', 3787.939784140643)\n",
            "('Car', 792.4269807131716)\n",
            "('Landsize', 19.12856029322579)\n",
            "('BuildingArea', 66.40486565252048)\n",
            "('YearBuilt', 1005.4997927245431)\n",
            "('CouncilArea', 9.001023607838695)\n",
            "('Lattitude', 644.8754062613365)\n",
            "('Longtitude', 587.524800385938)\n",
            "('Regionname', 85.5087991870125)\n",
            "('Propertycount', 24.168917653219914)\n",
            "('DaySold', 1.7119517490989111)\n",
            "('MonthSold', 10.630125366877271)\n",
            "('YearSold', 0.21654469188291484)\n"
          ]
        }
      ]
    },
    {
      "cell_type": "code",
      "metadata": {
        "id": "R-QNX4OUbWRh",
        "colab": {
          "base_uri": "https://localhost:8080/",
          "height": 341
        },
        "outputId": "57a30847-6df7-42d8-ea7c-172fe0aa1db1"
      },
      "source": [
        "import matplotlib.pyplot as plt\n",
        "import warnings\n",
        "warnings.filterwarnings('ignore')\n",
        "plt.bar(x=feature_name, height=f_value[0], color='blue')\n",
        "plt.xticks(rotation='vertical')\n",
        "plt.ylabel('F-value')\n",
        "plt.title('F-value Comparison')\n",
        "plt.show()"
      ],
      "execution_count": 18,
      "outputs": [
        {
          "output_type": "display_data",
          "data": {
            "text/plain": [
              "<Figure size 432x288 with 1 Axes>"
            ],
            "image/png": "[encoded data removed]"
          },
          "metadata": {
            "needs_background": "light"
          }
        }
      ]
    },
    {
      "cell_type": "code",
      "metadata": {
        "id": "vuROoUb0bWRh",
        "colab": {
          "base_uri": "https://localhost:8080/"
        },
        "outputId": "89643b63-da8f-4dca-88bb-ca5e8ab36131"
      },
      "source": [
        "#variance Threshold\n",
        "\n",
        "from sklearn.feature_selection import VarianceThreshold\n",
        "select = VarianceThreshold()\n",
        "select.fit_transform(X)\n",
        "\n",
        "\n",
        "for feature in zip(feature_name, select.variances_):\n",
        "    print(feature)"
      ],
      "execution_count": 19,
      "outputs": [
        {
          "output_type": "stream",
          "name": "stdout",
          "text": [
            "('Suburb', 0.33545117174557143)\n",
            "('Address', 4123.0)\n",
            "('Rooms', 0.9133868571341811)\n",
            "('Type', 0.6936349261779323)\n",
            "('Method', 1.2523032604475524)\n",
            "('SellerG', 11.51)\n",
            "('Distance', 34.4393962326561)\n",
            "('Postcode', 977.0)\n",
            "('Bedroom2', 0.9329347932179568)\n",
            "('Bathroom', 0.4784298739157689)\n",
            "('Car', 0.9341457430033338)\n",
            "('Landsize', 433014.0)\n",
            "('BuildingArea', 44515.0)\n",
            "('YearBuilt', 143.0)\n",
            "('CouncilArea', 18.639999999999997)\n",
            "('Lattitude', 0.0062816568783015505)\n",
            "('Longtitude', 0.010797648730010415)\n",
            "('Regionname', 4.097625216629323)\n",
            "('Propertycount', 21401.0)\n",
            "('DaySold', 29.0)\n",
            "('MonthSold', 6.430992579835633)\n",
            "('YearSold', 0.24888233367531304)\n"
          ]
        }
      ]
    },
    {
      "cell_type": "code",
      "metadata": {
        "id": "QC3qsWdrbWRi",
        "colab": {
          "base_uri": "https://localhost:8080/",
          "height": 341
        },
        "outputId": "32768fc2-52b7-4e47-d902-c2328b66a99d"
      },
      "source": [
        "plt.bar(x=feature_name, height=select.variances_, color='green')\n",
        "plt.xticks(rotation='vertical')\n",
        "plt.ylabel('Variance')\n",
        "plt.title('Variance Comparison')\n",
        "\n",
        "plt.show()"
      ],
      "execution_count": 20,
      "outputs": [
        {
          "output_type": "display_data",
          "data": {
            "text/plain": [
              "<Figure size 432x288 with 1 Axes>"
            ],
            "image/png": "[encoded data removed]"
          },
          "metadata": {
            "needs_background": "light"
          }
        }
      ]
    },
    {
      "cell_type": "code",
      "metadata": {
        "id": "95K_KWr6bWRj",
        "colab": {
          "base_uri": "https://localhost:8080/"
        },
        "outputId": "375451d0-1442-4ccd-9ba0-956b3f651214"
      },
      "source": [
        "from sklearn.feature_selection import mutual_info_regression\n",
        "mc = mutual_info_regression(X, Y, random_state=0)\n",
        "\n",
        "# Print the name and mutual information score of each feature\n",
        "for feature in zip(feature_name, mc):\n",
        "    print(feature)"
      ],
      "execution_count": 21,
      "outputs": [
        {
          "output_type": "stream",
          "name": "stdout",
          "text": [
            "('Suburb', 0.19453473277175437)\n",
            "('Address', 0.02275401332118676)\n",
            "('Rooms', 0.2295955204140827)\n",
            "('Type', 0.17289846331665748)\n",
            "('Method', 0.11394811098497382)\n",
            "('SellerG', 0.11052445884858919)\n",
            "('Distance', 0.20797971958739403)\n",
            "('Postcode', 0.32110017068905083)\n",
            "('Bedroom2', 0.20705714751288085)\n",
            "('Bathroom', 0.1357485363176676)\n",
            "('Car', 0.09439166925103493)\n",
            "('Landsize', 0.14390236035731663)\n",
            "('BuildingArea', 0.1924237080562925)\n",
            "('YearBuilt', 0.08376091598119295)\n",
            "('CouncilArea', 0.16477087729842532)\n",
            "('Lattitude', 0.14661478819169904)\n",
            "('Longtitude', 0.15466770307422628)\n",
            "('Regionname', 0.10892719546450191)\n",
            "('Propertycount', 0.20441932431840115)\n",
            "('DaySold', 0.0)\n",
            "('MonthSold', 0.004570464623413706)\n",
            "('YearSold', 0.0038078323491106403)\n"
          ]
        }
      ]
    },
    {
      "cell_type": "code",
      "metadata": {
        "id": "RsY2vp0wbWRj",
        "colab": {
          "base_uri": "https://localhost:8080/",
          "height": 341
        },
        "outputId": "b43cec42-1fad-4720-d241-a957152b2840"
      },
      "source": [
        "plt.figure(figsize=(4,4))\n",
        "plt.bar(x=feature_name, height=mc, color='tomato')\n",
        "plt.xticks(rotation='vertical')\n",
        "plt.ylabel('Mutual Information Score')\n",
        "plt.title('Mutual Information Score Comparison')\n",
        "\n",
        "plt.show()"
      ],
      "execution_count": 22,
      "outputs": [
        {
          "output_type": "display_data",
          "data": {
            "text/plain": [
              "<Figure size 288x288 with 1 Axes>"
            ],
            "image/png": "[encoded data removed]"
          },
          "metadata": {
            "needs_background": "light"
          }
        }
      ]
    },
    {
      "cell_type": "code",
      "metadata": {
        "id": "2wNZCW3ObWRk",
        "colab": {
          "base_uri": "https://localhost:8080/"
        },
        "outputId": "7b50ee8b-9799-4347-936f-fe7c76f521ec"
      },
      "source": [
        "#using selector object for selecting Features\n",
        "from sklearn.feature_selection import SelectKBest\n",
        "skb = SelectKBest(score_func=f_regression, k=6)                  \n",
        "x_new = skb.fit_transform(X, Y)\n",
        "\n",
        "print('Number of features before feature selection: {}'.format(X.shape[1]))\n",
        "print('Number of features after feature selection: {}'.format(x_new.shape[1]))"
      ],
      "execution_count": 23,
      "outputs": [
        {
          "output_type": "stream",
          "name": "stdout",
          "text": [
            "Number of features before feature selection: 22\n",
            "Number of features after feature selection: 6\n"
          ]
        }
      ]
    },
    {
      "cell_type": "code",
      "source": [
        "pip install pmdarima"
      ],
      "metadata": {
        "colab": {
          "base_uri": "https://localhost:8080/"
        },
        "id": "lhG6YrvV8jIR",
        "outputId": "331ad8b8-4dee-4f3b-805e-2b7af2b0dff3"
      },
      "execution_count": 33,
      "outputs": [
        {
          "output_type": "stream",
          "name": "stdout",
          "text": [
            "Looking in indexes: https://pypi.org/simple, https://us-python.pkg.dev/colab-wheels/public/simple/\n",
            "Collecting pmdarima\n",
            "  Downloading pmdarima-1.8.5-cp37-cp37m-manylinux_2_17_x86_64.manylinux2014_x86_64.manylinux_2_24_x86_64.whl (1.4 MB)\n",
            "\u001b[K     |████████████████████████████████| 1.4 MB 5.0 MB/s \n",
            "\u001b[?25hCollecting statsmodels!=0.12.0,>=0.11\n",
            "  Downloading statsmodels-0.13.2-cp37-cp37m-manylinux_2_17_x86_64.manylinux2014_x86_64.whl (9.8 MB)\n",
            "\u001b[K     |████████████████████████████████| 9.8 MB 32.2 MB/s \n",
            "\u001b[?25hRequirement already satisfied: Cython!=0.29.18,>=0.29 in /usr/local/lib/python3.7/dist-packages (from pmdarima) (0.29.31)\n",
            "Requirement already satisfied: urllib3 in /usr/local/lib/python3.7/dist-packages (from pmdarima) (1.24.3)\n",
            "Requirement already satisfied: scipy>=1.3.2 in /usr/local/lib/python3.7/dist-packages (from pmdarima) (1.7.3)\n",
            "Requirement already satisfied: scikit-learn>=0.22 in /usr/local/lib/python3.7/dist-packages (from pmdarima) (1.0.2)\n",
            "Requirement already satisfied: numpy>=1.19.3 in /usr/local/lib/python3.7/dist-packages (from pmdarima) (1.21.6)\n",
            "Requirement already satisfied: setuptools!=50.0.0,>=38.6.0 in /usr/local/lib/python3.7/dist-packages (from pmdarima) (57.4.0)\n",
            "Requirement already satisfied: joblib>=0.11 in /usr/local/lib/python3.7/dist-packages (from pmdarima) (1.1.0)\n",
            "Requirement already satisfied: pandas>=0.19 in /usr/local/lib/python3.7/dist-packages (from pmdarima) (1.3.5)\n",
            "Requirement already satisfied: pytz>=2017.3 in /usr/local/lib/python3.7/dist-packages (from pandas>=0.19->pmdarima) (2022.1)\n",
            "Requirement already satisfied: python-dateutil>=2.7.3 in /usr/local/lib/python3.7/dist-packages (from pandas>=0.19->pmdarima) (2.8.2)\n",
            "Requirement already satisfied: six>=1.5 in /usr/local/lib/python3.7/dist-packages (from python-dateutil>=2.7.3->pandas>=0.19->pmdarima) (1.15.0)\n",
            "Requirement already satisfied: threadpoolctl>=2.0.0 in /usr/local/lib/python3.7/dist-packages (from scikit-learn>=0.22->pmdarima) (3.1.0)\n",
            "Requirement already satisfied: packaging>=21.3 in /usr/local/lib/python3.7/dist-packages (from statsmodels!=0.12.0,>=0.11->pmdarima) (21.3)\n",
            "Requirement already satisfied: patsy>=0.5.2 in /usr/local/lib/python3.7/dist-packages (from statsmodels!=0.12.0,>=0.11->pmdarima) (0.5.2)\n",
            "Requirement already satisfied: pyparsing!=3.0.5,>=2.0.2 in /usr/local/lib/python3.7/dist-packages (from packaging>=21.3->statsmodels!=0.12.0,>=0.11->pmdarima) (3.0.9)\n",
            "Installing collected packages: statsmodels, pmdarima\n",
            "  Attempting uninstall: statsmodels\n",
            "    Found existing installation: statsmodels 0.10.2\n",
            "    Uninstalling statsmodels-0.10.2:\n",
            "      Successfully uninstalled statsmodels-0.10.2\n",
            "Successfully installed pmdarima-1.8.5 statsmodels-0.13.2\n"
          ]
        }
      ]
    },
    {
      "cell_type": "code",
      "source": [
        "import six\n",
        "import sys\n",
        "sys.modules['sklearn.externals.six'] = six\n",
        "import joblib\n",
        "sys.modules['sklearn.externals.joblib'] = joblib"
      ],
      "metadata": {
        "id": "CGfXkpoh9Qcj"
      },
      "execution_count": 37,
      "outputs": []
    },
    {
      "cell_type": "code",
      "metadata": {
        "id": "beWjaXYKbWRk",
        "colab": {
          "base_uri": "https://localhost:8080/"
        },
        "outputId": "df6fc93c-4708-4e71-d8c8-bd16c5db9980"
      },
      "source": [
        "from sklearn.linear_model import LinearRegression\n",
        "#import joblib\n",
        "from mlxtend.feature_selection import SequentialFeatureSelector\n",
        "sel = SequentialFeatureSelector(estimator=LinearRegression(),k_features=(1,22), forward=True)\n",
        "sel.fit(X_train, y_train)"
      ],
      "execution_count": 38,
      "outputs": [
        {
          "output_type": "execute_result",
          "data": {
            "text/plain": [
              "SequentialFeatureSelector(estimator=LinearRegression(), k_features=(1, 22))"
            ]
          },
          "metadata": {},
          "execution_count": 38
        }
      ]
    },
    {
      "cell_type": "code",
      "metadata": {
        "id": "ECc4a43vbWRk",
        "colab": {
          "base_uri": "https://localhost:8080/"
        },
        "outputId": "f9fef5fb-6c43-44b9-87d8-3328fa691600"
      },
      "source": [
        "print('Best accuracy score: %.2f' % sel.k_score_)   # k_score_ shows the best score \n",
        "print('Best subset (indices):', sel.k_feature_idx_) # k_feature_idx_ shows the index of features \n",
        "                                                    # that yield the best score\n",
        "print('Best subset (corresponding names):', sel.k_feature_names_)"
      ],
      "execution_count": 39,
      "outputs": [
        {
          "output_type": "stream",
          "name": "stdout",
          "text": [
            "Best accuracy score: 0.57\n",
            "Best subset (indices): (0, 2, 3, 4, 5, 6, 7, 9, 10, 11, 13, 15, 16, 17, 18, 20, 21)\n",
            "Best subset (corresponding names): ('Suburb', 'Rooms', 'Type', 'Method', 'SellerG', 'Distance', 'Postcode', 'Bathroom', 'Car', 'Landsize', 'YearBuilt', 'Lattitude', 'Longtitude', 'Regionname', 'Propertycount', 'MonthSold', 'YearSold')\n"
          ]
        }
      ]
    },
    {
      "cell_type": "code",
      "metadata": {
        "id": "B4TTWMEJbWRl"
      },
      "source": [
        ""
      ],
      "execution_count": null,
      "outputs": []
    },
    {
      "cell_type": "code",
      "metadata": {
        "id": "DxP0-5JBbWRl",
        "colab": {
          "base_uri": "https://localhost:8080/"
        },
        "outputId": "dbe15633-9d91-4c7a-9645-dee5ac4658ca"
      },
      "source": [
        "from sklearn.feature_selection import SelectFromModel\n",
        "from sklearn.ensemble import RandomForestRegressor\n",
        "selector = SelectFromModel(estimator=RandomForestRegressor())\n",
        "selector.fit(X_train, y_train)"
      ],
      "execution_count": 40,
      "outputs": [
        {
          "output_type": "execute_result",
          "data": {
            "text/plain": [
              "SelectFromModel(estimator=RandomForestRegressor())"
            ]
          },
          "metadata": {},
          "execution_count": 40
        }
      ]
    },
    {
      "cell_type": "code",
      "metadata": {
        "id": "PBN-FPFrbWRl",
        "colab": {
          "base_uri": "https://localhost:8080/"
        },
        "outputId": "0990eeef-605a-4df0-bba9-e3be75e659a1"
      },
      "source": [
        "print('The most important features based on random forest classifier:')\n",
        "for feature_list_index in selector.get_support(indices=True):\n",
        "    print('- ' + feature_name[feature_list_index])"
      ],
      "execution_count": 41,
      "outputs": [
        {
          "output_type": "stream",
          "name": "stdout",
          "text": [
            "The most important features based on random forest classifier:\n",
            "- Rooms\n",
            "- Type\n",
            "- Distance\n",
            "- Postcode\n",
            "- Landsize\n",
            "- BuildingArea\n",
            "- Longtitude\n"
          ]
        }
      ]
    },
    {
      "cell_type": "code",
      "metadata": {
        "id": "NFHVVXJ9bWRl",
        "colab": {
          "base_uri": "https://localhost:8080/"
        },
        "outputId": "3f0356e3-ac25-4de7-de3f-425c3457dffb"
      },
      "source": [
        "x_imp_train = selector.transform(X_train)\n",
        "x_imp_test = selector.transform(X_test)\n",
        "\n",
        "# Print the results\n",
        "print('Number of features before transformation: {}'.format(X_train.shape[1]))\n",
        "print('Number of features after transformation: {}'.format(x_imp_train.shape[1]))"
      ],
      "execution_count": 42,
      "outputs": [
        {
          "output_type": "stream",
          "name": "stdout",
          "text": [
            "Number of features before transformation: 22\n",
            "Number of features after transformation: 7\n"
          ]
        }
      ]
    },
    {
      "cell_type": "code",
      "metadata": {
        "id": "4A1lA4sYbWRl"
      },
      "source": [
        "from sklearn.metrics import r2_score\n"
      ],
      "execution_count": 43,
      "outputs": []
    },
    {
      "cell_type": "code",
      "metadata": {
        "id": "bPCm00F3bWRm",
        "colab": {
          "base_uri": "https://localhost:8080/"
        },
        "outputId": "2189c277-08c6-4836-f02a-e7c268675c02"
      },
      "source": [
        "rfr_full = RandomForestRegressor()\n",
        "\n",
        "rfr_full.fit(X_train, y_train)\n",
        "\n",
        "# Make predictions\n",
        "pred_full = rfr_full.predict(X_test)\n",
        "\n",
        "# Generate accuracy score\n",
        "print(\"r2 score: \",r2_score(y_test, pred_full))\n"
      ],
      "execution_count": 44,
      "outputs": [
        {
          "output_type": "stream",
          "name": "stdout",
          "text": [
            "r2 score:  0.81727550801896\n"
          ]
        }
      ]
    },
    {
      "cell_type": "code",
      "metadata": {
        "id": "0qBXChLPbWRm",
        "colab": {
          "base_uri": "https://localhost:8080/"
        },
        "outputId": "473e641a-8b81-4d82-96f3-a43fbb02b129"
      },
      "source": [
        "rfr_lim = RandomForestRegressor()\n",
        "\n",
        "# Train the classifier with limited features\n",
        "rfr_lim.fit(x_imp_train, y_train)\n",
        "\n",
        "# Make predictions\n",
        "pred_lim = rfr_lim.predict(x_imp_test)\n",
        "\n",
        "print(\"r2 score: \",r2_score(y_test, pred_lim))"
      ],
      "execution_count": 45,
      "outputs": [
        {
          "output_type": "stream",
          "name": "stdout",
          "text": [
            "r2 score:  0.7988211862230382\n"
          ]
        }
      ]
    },
    {
      "cell_type": "code",
      "source": [
        ""
      ],
      "metadata": {
        "id": "BmCVIUa79xak"
      },
      "execution_count": null,
      "outputs": []
    }
  ]
}